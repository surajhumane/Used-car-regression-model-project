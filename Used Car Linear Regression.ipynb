{
 "cells": [
  {
   "cell_type": "markdown",
   "id": "f417306d",
   "metadata": {},
   "source": [
    "# Used Car prediction :"
   ]
  },
  {
   "cell_type": "code",
   "execution_count": null,
   "id": "db4d3204",
   "metadata": {},
   "outputs": [],
   "source": [
    "## Import the liberies:"
   ]
  },
  {
   "cell_type": "code",
   "execution_count": 1,
   "id": "2288cf28",
   "metadata": {},
   "outputs": [],
   "source": [
    "import pandas as pd\n",
    "import numpy as np\n",
    "import seaborn as sns\n",
    "import matplotlib.pyplot as plt\n",
    "plt.style.use('ggplot')"
   ]
  },
  {
   "cell_type": "code",
   "execution_count": 6,
   "id": "bb90f0a3",
   "metadata": {},
   "outputs": [],
   "source": [
    "true_car_data=pd.read_csv(\"true_car_listings.csv\")"
   ]
  },
  {
   "cell_type": "code",
   "execution_count": 7,
   "id": "755d5654",
   "metadata": {},
   "outputs": [
    {
     "data": {
      "text/html": [
       "<div>\n",
       "<style scoped>\n",
       "    .dataframe tbody tr th:only-of-type {\n",
       "        vertical-align: middle;\n",
       "    }\n",
       "\n",
       "    .dataframe tbody tr th {\n",
       "        vertical-align: top;\n",
       "    }\n",
       "\n",
       "    .dataframe thead th {\n",
       "        text-align: right;\n",
       "    }\n",
       "</style>\n",
       "<table border=\"1\" class=\"dataframe\">\n",
       "  <thead>\n",
       "    <tr style=\"text-align: right;\">\n",
       "      <th></th>\n",
       "      <th>Price</th>\n",
       "      <th>Year</th>\n",
       "      <th>Mileage</th>\n",
       "      <th>City</th>\n",
       "      <th>State</th>\n",
       "      <th>Vin</th>\n",
       "      <th>Make</th>\n",
       "      <th>Model</th>\n",
       "    </tr>\n",
       "  </thead>\n",
       "  <tbody>\n",
       "    <tr>\n",
       "      <th>0</th>\n",
       "      <td>8995</td>\n",
       "      <td>2014</td>\n",
       "      <td>35725</td>\n",
       "      <td>El Paso</td>\n",
       "      <td>TX</td>\n",
       "      <td>19VDE2E53EE000083</td>\n",
       "      <td>Acura</td>\n",
       "      <td>ILX6-Speed</td>\n",
       "    </tr>\n",
       "  </tbody>\n",
       "</table>\n",
       "</div>"
      ],
      "text/plain": [
       "   Price  Year  Mileage     City State                Vin   Make       Model\n",
       "0   8995  2014    35725  El Paso    TX  19VDE2E53EE000083  Acura  ILX6-Speed"
      ]
     },
     "execution_count": 7,
     "metadata": {},
     "output_type": "execute_result"
    }
   ],
   "source": [
    "true_car_data.head(1)"
   ]
  },
  {
   "cell_type": "code",
   "execution_count": 8,
   "id": "32e4768a",
   "metadata": {},
   "outputs": [
    {
     "data": {
      "text/html": [
       "<div>\n",
       "<style scoped>\n",
       "    .dataframe tbody tr th:only-of-type {\n",
       "        vertical-align: middle;\n",
       "    }\n",
       "\n",
       "    .dataframe tbody tr th {\n",
       "        vertical-align: top;\n",
       "    }\n",
       "\n",
       "    .dataframe thead th {\n",
       "        text-align: right;\n",
       "    }\n",
       "</style>\n",
       "<table border=\"1\" class=\"dataframe\">\n",
       "  <thead>\n",
       "    <tr style=\"text-align: right;\">\n",
       "      <th></th>\n",
       "      <th>Price</th>\n",
       "      <th>Year</th>\n",
       "      <th>Mileage</th>\n",
       "    </tr>\n",
       "  </thead>\n",
       "  <tbody>\n",
       "    <tr>\n",
       "      <th>count</th>\n",
       "      <td>852122.000000</td>\n",
       "      <td>852122.000000</td>\n",
       "      <td>8.521220e+05</td>\n",
       "    </tr>\n",
       "    <tr>\n",
       "      <th>mean</th>\n",
       "      <td>21464.100210</td>\n",
       "      <td>2013.289145</td>\n",
       "      <td>5.250779e+04</td>\n",
       "    </tr>\n",
       "    <tr>\n",
       "      <th>std</th>\n",
       "      <td>13596.202241</td>\n",
       "      <td>3.414987</td>\n",
       "      <td>4.198896e+04</td>\n",
       "    </tr>\n",
       "    <tr>\n",
       "      <th>min</th>\n",
       "      <td>1500.000000</td>\n",
       "      <td>1997.000000</td>\n",
       "      <td>5.000000e+00</td>\n",
       "    </tr>\n",
       "    <tr>\n",
       "      <th>25%</th>\n",
       "      <td>13000.000000</td>\n",
       "      <td>2012.000000</td>\n",
       "      <td>2.383600e+04</td>\n",
       "    </tr>\n",
       "    <tr>\n",
       "      <th>50%</th>\n",
       "      <td>18500.000000</td>\n",
       "      <td>2014.000000</td>\n",
       "      <td>4.025600e+04</td>\n",
       "    </tr>\n",
       "    <tr>\n",
       "      <th>75%</th>\n",
       "      <td>26995.000000</td>\n",
       "      <td>2016.000000</td>\n",
       "      <td>7.218600e+04</td>\n",
       "    </tr>\n",
       "    <tr>\n",
       "      <th>max</th>\n",
       "      <td>499500.000000</td>\n",
       "      <td>2018.000000</td>\n",
       "      <td>2.856196e+06</td>\n",
       "    </tr>\n",
       "  </tbody>\n",
       "</table>\n",
       "</div>"
      ],
      "text/plain": [
       "               Price           Year       Mileage\n",
       "count  852122.000000  852122.000000  8.521220e+05\n",
       "mean    21464.100210    2013.289145  5.250779e+04\n",
       "std     13596.202241       3.414987  4.198896e+04\n",
       "min      1500.000000    1997.000000  5.000000e+00\n",
       "25%     13000.000000    2012.000000  2.383600e+04\n",
       "50%     18500.000000    2014.000000  4.025600e+04\n",
       "75%     26995.000000    2016.000000  7.218600e+04\n",
       "max    499500.000000    2018.000000  2.856196e+06"
      ]
     },
     "execution_count": 8,
     "metadata": {},
     "output_type": "execute_result"
    }
   ],
   "source": [
    "true_car_data.describe()"
   ]
  },
  {
   "cell_type": "code",
   "execution_count": 9,
   "id": "afc8947f",
   "metadata": {},
   "outputs": [
    {
     "name": "stdout",
     "output_type": "stream",
     "text": [
      "<class 'pandas.core.frame.DataFrame'>\n",
      "RangeIndex: 852122 entries, 0 to 852121\n",
      "Data columns (total 8 columns):\n",
      " #   Column   Non-Null Count   Dtype \n",
      "---  ------   --------------   ----- \n",
      " 0   Price    852122 non-null  int64 \n",
      " 1   Year     852122 non-null  int64 \n",
      " 2   Mileage  852122 non-null  int64 \n",
      " 3   City     852122 non-null  object\n",
      " 4   State    852122 non-null  object\n",
      " 5   Vin      852122 non-null  object\n",
      " 6   Make     852122 non-null  object\n",
      " 7   Model    852122 non-null  object\n",
      "dtypes: int64(3), object(5)\n",
      "memory usage: 52.0+ MB\n"
     ]
    }
   ],
   "source": [
    "true_car_data.info()"
   ]
  },
  {
   "cell_type": "code",
   "execution_count": 10,
   "id": "26e20ea9",
   "metadata": {},
   "outputs": [
    {
     "data": {
      "text/plain": [
       "Price      0\n",
       "Year       0\n",
       "Mileage    0\n",
       "City       0\n",
       "State      0\n",
       "Vin        0\n",
       "Make       0\n",
       "Model      0\n",
       "dtype: int64"
      ]
     },
     "execution_count": 10,
     "metadata": {},
     "output_type": "execute_result"
    }
   ],
   "source": [
    "true_car_data.isnull().sum()"
   ]
  },
  {
   "cell_type": "code",
   "execution_count": 12,
   "id": "f3265fe5",
   "metadata": {},
   "outputs": [
    {
     "name": "stdout",
     "output_type": "stream",
     "text": [
      "PredictorPricenNumber of unique variables:[  1500   1511   1527 ... 469991 490000 499500]\n",
      "PredictorYearnNumber of unique variables:[1997 1998 1999 2000 2001 2002 2003 2004 2005 2006 2007 2008 2009 2010\n",
      " 2011 2012 2013 2014 2015 2016 2017 2018]\n",
      "PredictorMileagenNumber of unique variables:[      5       6       7 ... 2137327 2457832 2856196]\n",
      "PredictorCitynNumber of unique variables:['AKRON' 'ALEXANDRIA' 'AURORA' ... 'phoenix' 'salt lake' 'victorville']\n",
      "PredictorStatenNumber of unique variables:[' AK' ' AL' ' AR' ' AZ' ' Az' ' CA' ' CO' ' CT' ' Ca' ' DC' ' DE' ' FL'\n",
      " ' Fl' ' GA' ' Ga' ' HI' ' IA' ' ID' ' IL' ' IN' ' KS' ' KY' ' LA' ' MA'\n",
      " ' MD' ' ME' ' MI' ' MN' ' MO' ' MS' ' MT' ' Md' ' NC' ' ND' ' NE' ' NH'\n",
      " ' NJ' ' NM' ' NV' ' NY' ' OH' ' OK' ' OR' ' Oh' ' PA' ' RI' ' SC' ' SD'\n",
      " ' TN' ' TX' ' UT' ' VA' ' VT' ' Va' ' WA' ' WI' ' WV' ' WY' ' ga']\n",
      "PredictorVinnNumber of unique variables:['04WT3N56GG0646582' '04WT3N59GG1261202' '137FA84322E198163' ...\n",
      " 'ZN661YUS7HX230573' 'ZN661YUS8HX230520' 'ZN661YUS9HX226976']\n",
      "PredictorMakenNumber of unique variables:['AM' 'Acura' 'Alfa' 'Aston' 'Audi' 'BMW' 'Bentley' 'Buick' 'Cadillac'\n",
      " 'Chevrolet' 'Chrysler' 'Dodge' 'FIAT' 'Ferrari' 'Fisker' 'Ford'\n",
      " 'Freightliner' 'GMC' 'Genesis' 'Geo' 'HUMMER' 'Honda' 'Hyundai'\n",
      " 'INFINITI' 'Isuzu' 'Jaguar' 'Jeep' 'Kia' 'Lamborghini' 'Land' 'Lexus'\n",
      " 'Lincoln' 'Lotus' 'MINI' 'Maserati' 'Maybach' 'Mazda' 'McLaren'\n",
      " 'Mercedes-Benz' 'Mercury' 'Mitsubishi' 'Nissan' 'Oldsmobile' 'Plymouth'\n",
      " 'Pontiac' 'Porsche' 'Ram' 'Rolls-Royce' 'Saab' 'Saturn' 'Scion' 'Subaru'\n",
      " 'Suzuki' 'Tesla' 'Toyota' 'Volkswagen' 'Volvo' 'smart']\n",
      "PredictorModelnNumber of unique variables:['1' '124' '1500' ... 'xD5dr' 'xDAutomatic' 'xDManual']\n"
     ]
    }
   ],
   "source": [
    "for col in true_car_data.columns:\n",
    "    print(f\"Predictor{col}nNumber of unique variables:{true_car_data[col].sort_values().unique()}\")"
   ]
  },
  {
   "cell_type": "code",
   "execution_count": 13,
   "id": "1c12f726",
   "metadata": {},
   "outputs": [
    {
     "data": {
      "text/plain": [
       "array(['Acura', 'Alfa', 'AM', 'Aston', 'Audi', 'Bentley', 'BMW', 'Buick',\n",
       "       'Cadillac', 'Chevrolet', 'Chrysler', 'Dodge', 'Ferrari', 'FIAT',\n",
       "       'Fisker', 'Ford', 'Freightliner', 'Genesis', 'Geo', 'GMC', 'Honda',\n",
       "       'HUMMER', 'Hyundai', 'INFINITI', 'Isuzu', 'Jaguar', 'Jeep', 'Kia',\n",
       "       'Lamborghini', 'Land', 'Lexus', 'Lincoln', 'Lotus', 'Maserati',\n",
       "       'Maybach', 'Mazda', 'McLaren', 'Mercedes-Benz', 'Mercury', 'MINI',\n",
       "       'Mitsubishi', 'Nissan', 'Oldsmobile', 'Plymouth', 'Pontiac',\n",
       "       'Porsche', 'Ram', 'Rolls-Royce', 'Saab', 'Saturn', 'Scion',\n",
       "       'smart', 'Subaru', 'Suzuki', 'Tesla', 'Toyota', 'Volkswagen',\n",
       "       'Volvo'], dtype=object)"
      ]
     },
     "execution_count": 13,
     "metadata": {},
     "output_type": "execute_result"
    }
   ],
   "source": [
    "#create a dictionary to list the origin of the make ... e,g, Acura = US, Toyota = Japan\n",
    "true_car_data[\"Make\"].unique()"
   ]
  },
  {
   "cell_type": "code",
   "execution_count": null,
   "id": "dc0a8ff6",
   "metadata": {},
   "outputs": [],
   "source": [
    "#create a dictionary to list the origin of the make ... e,g, Acura = US, Toyota = Japan\n"
   ]
  },
  {
   "cell_type": "code",
   "execution_count": 14,
   "id": "254529cf",
   "metadata": {},
   "outputs": [],
   "source": [
    "make_origin = {'Acura': \"US\", 'Alfa': \"EU\", 'AM': \"US\", 'Aston': \"EU\", 'Audi': \"EU\", 'Bentley': \"EU\", 'BMW': \"EU\", 'Buick': \"US\",\n",
    "       'Cadillac': \"US\", 'Chevrolet': \"US\", 'Chrysler': \"US\", 'Dodge': \"US\", 'Ferrari': \"EU\", 'FIAT': \"EU\",\n",
    "       'Fisker': \"US\", 'Ford': \"US\", 'Freightliner': \"US\", 'Genesis': \"ASIA\", 'Geo': \"US\", 'GMC': \"US\", 'Honda': \"ASIA\",\n",
    "       'HUMMER': \"US\", 'Hyundai': \"ASIA\", 'INFINITI': \"ASIA\", 'Isuzu': \"ASIA\", 'Jaguar': \"EU\", 'Jeep': \"US\", 'Kia': \"ASIA\",\n",
    "       'Lamborghini': \"EU\", 'Land': \"US\", 'Lexus': \"ASIA\", 'Lincoln': \"US\", 'Lotus': \"EU\", 'Maserati': \"EU\",\n",
    "       'Maybach': \"EU\", 'Mazda': \"ASIA\", 'McLaren': \"EU\", 'Mercedes-Benz': \"EU\", 'Mercury': \"US\", 'MINI': \"EU\",\n",
    "       'Mitsubishi': \"ASIA\", 'Nissan': \"ASIA\", 'Oldsmobile': \"US\", 'Plymouth': \"US\", 'Pontiac': \"US\",\n",
    "       'Porsche': \"EU\", 'Ram': \"US\", 'Rolls-Royce': \"EU\", 'Saab': \"EU\", 'Saturn': \"US\", 'Scion': \"US\",\n",
    "       'smart': \"ASIA\", 'Subaru': \"ASIA\", 'Suzuki': \"ASIA\", 'Tesla': \"US\", 'Toyota': \"ASIA\", 'Volkswagen': \"EU\",\n",
    "       'Volvo': \"EU\"}"
   ]
  },
  {
   "cell_type": "code",
   "execution_count": 16,
   "id": "ec7ba325",
   "metadata": {},
   "outputs": [],
   "source": [
    "#Things i did \n",
    "#calculage Age of Vehicles \n",
    "\n",
    "true_car_data[\"NumOfYears\"] = 2018-true_car_data[\"Year\"]\n",
    "\n",
    "#calculage avg dollar per mile\n",
    "\n",
    "true_car_data[\"avgpermile\"] =  true_car_data[\"Price\"] / true_car_data[\"Mileage\"]"
   ]
  },
  {
   "cell_type": "code",
   "execution_count": 19,
   "id": "df060b75",
   "metadata": {},
   "outputs": [],
   "source": [
    "import numpy as np\n",
    "\n",
    "from sklearn.model_selection import train_test_split\n",
    "from sklearn.linear_model import LinearRegression\n",
    "from sklearn.linear_model import LogisticRegression\n",
    "%matplotlib inline"
   ]
  },
  {
   "cell_type": "code",
   "execution_count": 20,
   "id": "b36ea8ec",
   "metadata": {},
   "outputs": [
    {
     "data": {
      "text/html": [
       "<div>\n",
       "<style scoped>\n",
       "    .dataframe tbody tr th:only-of-type {\n",
       "        vertical-align: middle;\n",
       "    }\n",
       "\n",
       "    .dataframe tbody tr th {\n",
       "        vertical-align: top;\n",
       "    }\n",
       "\n",
       "    .dataframe thead th {\n",
       "        text-align: right;\n",
       "    }\n",
       "</style>\n",
       "<table border=\"1\" class=\"dataframe\">\n",
       "  <thead>\n",
       "    <tr style=\"text-align: right;\">\n",
       "      <th></th>\n",
       "      <th>Price</th>\n",
       "      <th>Year</th>\n",
       "      <th>Mileage</th>\n",
       "      <th>City</th>\n",
       "      <th>State</th>\n",
       "      <th>Vin</th>\n",
       "      <th>Make</th>\n",
       "      <th>Model</th>\n",
       "      <th>NumOfYears</th>\n",
       "      <th>avgpermile</th>\n",
       "    </tr>\n",
       "  </thead>\n",
       "  <tbody>\n",
       "    <tr>\n",
       "      <th>0</th>\n",
       "      <td>8995</td>\n",
       "      <td>2014</td>\n",
       "      <td>35725</td>\n",
       "      <td>El Paso</td>\n",
       "      <td>TX</td>\n",
       "      <td>19VDE2E53EE000083</td>\n",
       "      <td>Acura</td>\n",
       "      <td>ILX6-Speed</td>\n",
       "      <td>4</td>\n",
       "      <td>0.251784</td>\n",
       "    </tr>\n",
       "    <tr>\n",
       "      <th>1</th>\n",
       "      <td>10888</td>\n",
       "      <td>2013</td>\n",
       "      <td>19606</td>\n",
       "      <td>Long Island City</td>\n",
       "      <td>NY</td>\n",
       "      <td>19VDE1F52DE012636</td>\n",
       "      <td>Acura</td>\n",
       "      <td>ILX5-Speed</td>\n",
       "      <td>5</td>\n",
       "      <td>0.555340</td>\n",
       "    </tr>\n",
       "    <tr>\n",
       "      <th>2</th>\n",
       "      <td>8995</td>\n",
       "      <td>2013</td>\n",
       "      <td>48851</td>\n",
       "      <td>El Paso</td>\n",
       "      <td>TX</td>\n",
       "      <td>19VDE2E52DE000025</td>\n",
       "      <td>Acura</td>\n",
       "      <td>ILX6-Speed</td>\n",
       "      <td>5</td>\n",
       "      <td>0.184131</td>\n",
       "    </tr>\n",
       "    <tr>\n",
       "      <th>3</th>\n",
       "      <td>10999</td>\n",
       "      <td>2014</td>\n",
       "      <td>39922</td>\n",
       "      <td>Windsor</td>\n",
       "      <td>CO</td>\n",
       "      <td>19VDE1F71EE003817</td>\n",
       "      <td>Acura</td>\n",
       "      <td>ILX5-Speed</td>\n",
       "      <td>4</td>\n",
       "      <td>0.275512</td>\n",
       "    </tr>\n",
       "    <tr>\n",
       "      <th>4</th>\n",
       "      <td>14799</td>\n",
       "      <td>2016</td>\n",
       "      <td>22142</td>\n",
       "      <td>Lindon</td>\n",
       "      <td>UT</td>\n",
       "      <td>19UDE2F32GA001284</td>\n",
       "      <td>Acura</td>\n",
       "      <td>ILXAutomatic</td>\n",
       "      <td>2</td>\n",
       "      <td>0.668368</td>\n",
       "    </tr>\n",
       "    <tr>\n",
       "      <th>...</th>\n",
       "      <td>...</td>\n",
       "      <td>...</td>\n",
       "      <td>...</td>\n",
       "      <td>...</td>\n",
       "      <td>...</td>\n",
       "      <td>...</td>\n",
       "      <td>...</td>\n",
       "      <td>...</td>\n",
       "      <td>...</td>\n",
       "      <td>...</td>\n",
       "    </tr>\n",
       "    <tr>\n",
       "      <th>852117</th>\n",
       "      <td>63215</td>\n",
       "      <td>2017</td>\n",
       "      <td>9</td>\n",
       "      <td>Culver City</td>\n",
       "      <td>CA</td>\n",
       "      <td>YV1A22MK9H1013237</td>\n",
       "      <td>Volvo</td>\n",
       "      <td>S90T6</td>\n",
       "      <td>1</td>\n",
       "      <td>7023.888889</td>\n",
       "    </tr>\n",
       "    <tr>\n",
       "      <th>852118</th>\n",
       "      <td>72260</td>\n",
       "      <td>2017</td>\n",
       "      <td>3201</td>\n",
       "      <td>Englewood</td>\n",
       "      <td>NJ</td>\n",
       "      <td>YV4A22PL3H1186162</td>\n",
       "      <td>Volvo</td>\n",
       "      <td>XC90T6</td>\n",
       "      <td>1</td>\n",
       "      <td>22.574196</td>\n",
       "    </tr>\n",
       "    <tr>\n",
       "      <th>852119</th>\n",
       "      <td>55999</td>\n",
       "      <td>2016</td>\n",
       "      <td>28941</td>\n",
       "      <td>Fort Collins</td>\n",
       "      <td>CO</td>\n",
       "      <td>YV4A22PL4G1000868</td>\n",
       "      <td>Volvo</td>\n",
       "      <td>XC90AWD</td>\n",
       "      <td>2</td>\n",
       "      <td>1.934937</td>\n",
       "    </tr>\n",
       "    <tr>\n",
       "      <th>852120</th>\n",
       "      <td>60240</td>\n",
       "      <td>2017</td>\n",
       "      <td>3005</td>\n",
       "      <td>San Leandro</td>\n",
       "      <td>CA</td>\n",
       "      <td>YV4A22NLXH1006162</td>\n",
       "      <td>Volvo</td>\n",
       "      <td>V90</td>\n",
       "      <td>1</td>\n",
       "      <td>20.046589</td>\n",
       "    </tr>\n",
       "    <tr>\n",
       "      <th>852121</th>\n",
       "      <td>76995</td>\n",
       "      <td>2017</td>\n",
       "      <td>2502</td>\n",
       "      <td>New York</td>\n",
       "      <td>NY</td>\n",
       "      <td>YV4BC0ZX1H1109845</td>\n",
       "      <td>Volvo</td>\n",
       "      <td>XC90T8</td>\n",
       "      <td>1</td>\n",
       "      <td>30.773381</td>\n",
       "    </tr>\n",
       "  </tbody>\n",
       "</table>\n",
       "<p>852122 rows × 10 columns</p>\n",
       "</div>"
      ],
      "text/plain": [
       "        Price  Year  Mileage              City State                Vin  \\\n",
       "0        8995  2014    35725           El Paso    TX  19VDE2E53EE000083   \n",
       "1       10888  2013    19606  Long Island City    NY  19VDE1F52DE012636   \n",
       "2        8995  2013    48851           El Paso    TX  19VDE2E52DE000025   \n",
       "3       10999  2014    39922           Windsor    CO  19VDE1F71EE003817   \n",
       "4       14799  2016    22142            Lindon    UT  19UDE2F32GA001284   \n",
       "...       ...   ...      ...               ...   ...                ...   \n",
       "852117  63215  2017        9       Culver City    CA  YV1A22MK9H1013237   \n",
       "852118  72260  2017     3201         Englewood    NJ  YV4A22PL3H1186162   \n",
       "852119  55999  2016    28941      Fort Collins    CO  YV4A22PL4G1000868   \n",
       "852120  60240  2017     3005       San Leandro    CA  YV4A22NLXH1006162   \n",
       "852121  76995  2017     2502          New York    NY  YV4BC0ZX1H1109845   \n",
       "\n",
       "         Make         Model  NumOfYears   avgpermile  \n",
       "0       Acura    ILX6-Speed           4     0.251784  \n",
       "1       Acura    ILX5-Speed           5     0.555340  \n",
       "2       Acura    ILX6-Speed           5     0.184131  \n",
       "3       Acura    ILX5-Speed           4     0.275512  \n",
       "4       Acura  ILXAutomatic           2     0.668368  \n",
       "...       ...           ...         ...          ...  \n",
       "852117  Volvo         S90T6           1  7023.888889  \n",
       "852118  Volvo        XC90T6           1    22.574196  \n",
       "852119  Volvo       XC90AWD           2     1.934937  \n",
       "852120  Volvo           V90           1    20.046589  \n",
       "852121  Volvo        XC90T8           1    30.773381  \n",
       "\n",
       "[852122 rows x 10 columns]"
      ]
     },
     "execution_count": 20,
     "metadata": {},
     "output_type": "execute_result"
    }
   ],
   "source": [
    "## use linear regression to to forecast function\n",
    "## do simple one,pick only make,year,price,make,miles\n",
    "\n",
    "##which feature is not important\n",
    "## find the outlier data\n",
    "true_car_data"
   ]
  },
  {
   "cell_type": "code",
   "execution_count": 21,
   "id": "8b6fc4d3",
   "metadata": {},
   "outputs": [
    {
     "name": "stdout",
     "output_type": "stream",
     "text": [
      "         Price  Year  Mileage              City State                Vin  \\\n",
      "631797    5490  2009       10             Bronx    NY  1N4AL21E59C175525   \n",
      "631798   10588  2016     2790  Long Island City    NY  1N4AL3APXGN317893   \n",
      "631799    6998  2013    32205            Inwood    NY  1N4AL3AP9DC251411   \n",
      "631800    8950  2017     7995           Phoenix    AZ  3N1AB7AP4HY244614   \n",
      "631801    9990  2016    24978           Raleigh    NC  1N4AL3AP2GC177284   \n",
      "...        ...   ...      ...               ...   ...                ...   \n",
      "698042   99995  2015    63051            Morrow    GA  1N4AL3AP5FN323440   \n",
      "698043   99995  2013    47827            Morrow    GA  1N4AL3AP0DC130816   \n",
      "698044  119995  2015    14294       Orland Park    IL  JN1AR5EF9FM280008   \n",
      "698045   99995  2016    32351            Morrow    GA  3N1AB7AP1GY298029   \n",
      "698046  121495  2015    13395        Amityville    NY  JN1AR5EF2FM281789   \n",
      "\n",
      "          Make        Model  NumOfYears  avgpermile  \n",
      "631797  Nissan    Altima4dr           9  549.000000  \n",
      "631798  Nissan    Altima2.5           2    3.794982  \n",
      "631799  Nissan  AltimaSedan           5    0.217295  \n",
      "631800  Nissan      SentraS           1    1.119450  \n",
      "631801  Nissan    Altima2.5           2    0.399952  \n",
      "...        ...          ...         ...         ...  \n",
      "698042  Nissan    Altima2.5           3    1.585938  \n",
      "698043  Nissan  AltimaSedan           5    2.090765  \n",
      "698044  Nissan  GT-RPremium           3    8.394781  \n",
      "698045  Nissan     SentraSL           2    3.090940  \n",
      "698046  Nissan    GT-RNISMO           3    9.070175  \n",
      "\n",
      "[66250 rows x 10 columns]\n"
     ]
    }
   ],
   "source": [
    "## pick only nissan to try linear Regression\n",
    "\n",
    "True_Car_Nissan = true_car_data[true_car_data[\"Make\"]==\"Nissan\"]\n",
    "print(True_Car_Nissan)"
   ]
  },
  {
   "cell_type": "code",
   "execution_count": 22,
   "id": "2359c930",
   "metadata": {},
   "outputs": [
    {
     "data": {
      "text/html": [
       "<div>\n",
       "<style scoped>\n",
       "    .dataframe tbody tr th:only-of-type {\n",
       "        vertical-align: middle;\n",
       "    }\n",
       "\n",
       "    .dataframe tbody tr th {\n",
       "        vertical-align: top;\n",
       "    }\n",
       "\n",
       "    .dataframe thead th {\n",
       "        text-align: right;\n",
       "    }\n",
       "</style>\n",
       "<table border=\"1\" class=\"dataframe\">\n",
       "  <thead>\n",
       "    <tr style=\"text-align: right;\">\n",
       "      <th></th>\n",
       "      <th>Price</th>\n",
       "      <th>Year</th>\n",
       "      <th>Mileage</th>\n",
       "      <th>City</th>\n",
       "      <th>State</th>\n",
       "      <th>Vin</th>\n",
       "      <th>Make</th>\n",
       "      <th>Model</th>\n",
       "      <th>NumOfYears</th>\n",
       "      <th>avgpermile</th>\n",
       "    </tr>\n",
       "  </thead>\n",
       "  <tbody>\n",
       "    <tr>\n",
       "      <th>631797</th>\n",
       "      <td>5490</td>\n",
       "      <td>2009</td>\n",
       "      <td>10</td>\n",
       "      <td>Bronx</td>\n",
       "      <td>NY</td>\n",
       "      <td>1N4AL21E59C175525</td>\n",
       "      <td>Nissan</td>\n",
       "      <td>Altima4dr</td>\n",
       "      <td>9</td>\n",
       "      <td>549.000000</td>\n",
       "    </tr>\n",
       "    <tr>\n",
       "      <th>631798</th>\n",
       "      <td>10588</td>\n",
       "      <td>2016</td>\n",
       "      <td>2790</td>\n",
       "      <td>Long Island City</td>\n",
       "      <td>NY</td>\n",
       "      <td>1N4AL3APXGN317893</td>\n",
       "      <td>Nissan</td>\n",
       "      <td>Altima2.5</td>\n",
       "      <td>2</td>\n",
       "      <td>3.794982</td>\n",
       "    </tr>\n",
       "    <tr>\n",
       "      <th>631799</th>\n",
       "      <td>6998</td>\n",
       "      <td>2013</td>\n",
       "      <td>32205</td>\n",
       "      <td>Inwood</td>\n",
       "      <td>NY</td>\n",
       "      <td>1N4AL3AP9DC251411</td>\n",
       "      <td>Nissan</td>\n",
       "      <td>AltimaSedan</td>\n",
       "      <td>5</td>\n",
       "      <td>0.217295</td>\n",
       "    </tr>\n",
       "    <tr>\n",
       "      <th>631800</th>\n",
       "      <td>8950</td>\n",
       "      <td>2017</td>\n",
       "      <td>7995</td>\n",
       "      <td>Phoenix</td>\n",
       "      <td>AZ</td>\n",
       "      <td>3N1AB7AP4HY244614</td>\n",
       "      <td>Nissan</td>\n",
       "      <td>SentraS</td>\n",
       "      <td>1</td>\n",
       "      <td>1.119450</td>\n",
       "    </tr>\n",
       "    <tr>\n",
       "      <th>631801</th>\n",
       "      <td>9990</td>\n",
       "      <td>2016</td>\n",
       "      <td>24978</td>\n",
       "      <td>Raleigh</td>\n",
       "      <td>NC</td>\n",
       "      <td>1N4AL3AP2GC177284</td>\n",
       "      <td>Nissan</td>\n",
       "      <td>Altima2.5</td>\n",
       "      <td>2</td>\n",
       "      <td>0.399952</td>\n",
       "    </tr>\n",
       "    <tr>\n",
       "      <th>...</th>\n",
       "      <td>...</td>\n",
       "      <td>...</td>\n",
       "      <td>...</td>\n",
       "      <td>...</td>\n",
       "      <td>...</td>\n",
       "      <td>...</td>\n",
       "      <td>...</td>\n",
       "      <td>...</td>\n",
       "      <td>...</td>\n",
       "      <td>...</td>\n",
       "    </tr>\n",
       "    <tr>\n",
       "      <th>698042</th>\n",
       "      <td>99995</td>\n",
       "      <td>2015</td>\n",
       "      <td>63051</td>\n",
       "      <td>Morrow</td>\n",
       "      <td>GA</td>\n",
       "      <td>1N4AL3AP5FN323440</td>\n",
       "      <td>Nissan</td>\n",
       "      <td>Altima2.5</td>\n",
       "      <td>3</td>\n",
       "      <td>1.585938</td>\n",
       "    </tr>\n",
       "    <tr>\n",
       "      <th>698043</th>\n",
       "      <td>99995</td>\n",
       "      <td>2013</td>\n",
       "      <td>47827</td>\n",
       "      <td>Morrow</td>\n",
       "      <td>GA</td>\n",
       "      <td>1N4AL3AP0DC130816</td>\n",
       "      <td>Nissan</td>\n",
       "      <td>AltimaSedan</td>\n",
       "      <td>5</td>\n",
       "      <td>2.090765</td>\n",
       "    </tr>\n",
       "    <tr>\n",
       "      <th>698044</th>\n",
       "      <td>119995</td>\n",
       "      <td>2015</td>\n",
       "      <td>14294</td>\n",
       "      <td>Orland Park</td>\n",
       "      <td>IL</td>\n",
       "      <td>JN1AR5EF9FM280008</td>\n",
       "      <td>Nissan</td>\n",
       "      <td>GT-RPremium</td>\n",
       "      <td>3</td>\n",
       "      <td>8.394781</td>\n",
       "    </tr>\n",
       "    <tr>\n",
       "      <th>698045</th>\n",
       "      <td>99995</td>\n",
       "      <td>2016</td>\n",
       "      <td>32351</td>\n",
       "      <td>Morrow</td>\n",
       "      <td>GA</td>\n",
       "      <td>3N1AB7AP1GY298029</td>\n",
       "      <td>Nissan</td>\n",
       "      <td>SentraSL</td>\n",
       "      <td>2</td>\n",
       "      <td>3.090940</td>\n",
       "    </tr>\n",
       "    <tr>\n",
       "      <th>698046</th>\n",
       "      <td>121495</td>\n",
       "      <td>2015</td>\n",
       "      <td>13395</td>\n",
       "      <td>Amityville</td>\n",
       "      <td>NY</td>\n",
       "      <td>JN1AR5EF2FM281789</td>\n",
       "      <td>Nissan</td>\n",
       "      <td>GT-RNISMO</td>\n",
       "      <td>3</td>\n",
       "      <td>9.070175</td>\n",
       "    </tr>\n",
       "  </tbody>\n",
       "</table>\n",
       "<p>66250 rows × 10 columns</p>\n",
       "</div>"
      ],
      "text/plain": [
       "         Price  Year  Mileage              City State                Vin  \\\n",
       "631797    5490  2009       10             Bronx    NY  1N4AL21E59C175525   \n",
       "631798   10588  2016     2790  Long Island City    NY  1N4AL3APXGN317893   \n",
       "631799    6998  2013    32205            Inwood    NY  1N4AL3AP9DC251411   \n",
       "631800    8950  2017     7995           Phoenix    AZ  3N1AB7AP4HY244614   \n",
       "631801    9990  2016    24978           Raleigh    NC  1N4AL3AP2GC177284   \n",
       "...        ...   ...      ...               ...   ...                ...   \n",
       "698042   99995  2015    63051            Morrow    GA  1N4AL3AP5FN323440   \n",
       "698043   99995  2013    47827            Morrow    GA  1N4AL3AP0DC130816   \n",
       "698044  119995  2015    14294       Orland Park    IL  JN1AR5EF9FM280008   \n",
       "698045   99995  2016    32351            Morrow    GA  3N1AB7AP1GY298029   \n",
       "698046  121495  2015    13395        Amityville    NY  JN1AR5EF2FM281789   \n",
       "\n",
       "          Make        Model  NumOfYears  avgpermile  \n",
       "631797  Nissan    Altima4dr           9  549.000000  \n",
       "631798  Nissan    Altima2.5           2    3.794982  \n",
       "631799  Nissan  AltimaSedan           5    0.217295  \n",
       "631800  Nissan      SentraS           1    1.119450  \n",
       "631801  Nissan    Altima2.5           2    0.399952  \n",
       "...        ...          ...         ...         ...  \n",
       "698042  Nissan    Altima2.5           3    1.585938  \n",
       "698043  Nissan  AltimaSedan           5    2.090765  \n",
       "698044  Nissan  GT-RPremium           3    8.394781  \n",
       "698045  Nissan     SentraSL           2    3.090940  \n",
       "698046  Nissan    GT-RNISMO           3    9.070175  \n",
       "\n",
       "[66250 rows x 10 columns]"
      ]
     },
     "execution_count": 22,
     "metadata": {},
     "output_type": "execute_result"
    }
   ],
   "source": [
    "True_Car_Nissan"
   ]
  },
  {
   "cell_type": "code",
   "execution_count": 30,
   "id": "9f66618d",
   "metadata": {},
   "outputs": [
    {
     "name": "stdout",
     "output_type": "stream",
     "text": [
      "    NumOfYears  avgpermile\n",
      "0            1  136.662664\n",
      "1            2   20.925913\n",
      "2            3    3.184177\n",
      "3            4    2.341847\n",
      "4            5    0.947182\n",
      "5            6    0.221791\n",
      "6            7    0.182509\n",
      "7            8    0.167851\n",
      "8            9    0.564302\n",
      "9           10    0.096986\n",
      "10          11    0.086891\n",
      "11          12    0.077004\n",
      "12          13    0.069555\n",
      "13          14    0.068699\n",
      "14          15    0.054494\n",
      "15          16    0.053374\n",
      "16          17    0.031345\n",
      "17          18    0.034181\n",
      "18          19    0.029634\n",
      "19          20    0.027481\n",
      "20          21    0.039036\n"
     ]
    }
   ],
   "source": [
    "#Calculate what are the average price per mile based on Years of the vehicles\n",
    "\n",
    "\n",
    "true_car_nissan_morethaAvg = True_Car_Nissan.groupby([\"NumOfYears\"])[\"avgpermile\"].mean().reset_index(drop=False)\n",
    "#.rename(columns = {\"NumOfYears\" : \"Years\"})\n",
    "\n",
    "\n",
    "#true_car_nissan_morethaAvg['NumOfYears'].dtype\n",
    "#true_car_nissan[\"NumOfYears\"].dtype\n",
    "\n",
    "print (true_car_nissan_morethaAvg)"
   ]
  },
  {
   "cell_type": "code",
   "execution_count": 31,
   "id": "fc886e5f",
   "metadata": {},
   "outputs": [],
   "source": [
    "#removal of outliers by removing the rows if \"AvgPerMile\" is higher than average based on Num of Years \n",
    "true_car_nissan_1=pd.merge(True_Car_Nissan,true_car_nissan_morethaAvg,on=\"NumOfYears\")\n"
   ]
  },
  {
   "cell_type": "code",
   "execution_count": 37,
   "id": "21815543",
   "metadata": {},
   "outputs": [
    {
     "name": "stderr",
     "output_type": "stream",
     "text": [
      "C:\\Users\\DELL\\AppData\\Local\\Temp\\ipykernel_18332\\199650657.py:4: SettingWithCopyWarning: \n",
      "A value is trying to be set on a copy of a slice from a DataFrame\n",
      "\n",
      "See the caveats in the documentation: https://pandas.pydata.org/pandas-docs/stable/user_guide/indexing.html#returning-a-view-versus-a-copy\n",
      "  true_car_nissan_2.drop(columns = [\"avgpermile_y\"] , inplace = True)\n"
     ]
    }
   ],
   "source": [
    "true_car_nissan_2 = true_car_nissan_1[true_car_nissan_1[\"avgpermile_x\"]< true_car_nissan_1[\"avgpermile_y\"]]\n",
    "\n",
    "#clean up outlier\n",
    "true_car_nissan_2.drop(columns = [\"avgpermile_y\"] , inplace = True)"
   ]
  },
  {
   "cell_type": "code",
   "execution_count": 38,
   "id": "189a2498",
   "metadata": {},
   "outputs": [
    {
     "name": "stderr",
     "output_type": "stream",
     "text": [
      "C:\\Users\\DELL\\AppData\\Local\\Temp\\ipykernel_18332\\2116615505.py:1: SettingWithCopyWarning: \n",
      "A value is trying to be set on a copy of a slice from a DataFrame\n",
      "\n",
      "See the caveats in the documentation: https://pandas.pydata.org/pandas-docs/stable/user_guide/indexing.html#returning-a-view-versus-a-copy\n",
      "  true_car_nissan_2.rename(columns={\"avgpermile_x\" : \"avgpermile\"},inplace=True)\n"
     ]
    }
   ],
   "source": [
    "true_car_nissan_2.rename(columns={\"avgpermile_x\" : \"avgpermile\"},inplace=True)"
   ]
  },
  {
   "cell_type": "code",
   "execution_count": 43,
   "id": "a02c047c",
   "metadata": {},
   "outputs": [
    {
     "data": {
      "text/plain": [
       "<Axes: >"
      ]
     },
     "execution_count": 43,
     "metadata": {},
     "output_type": "execute_result"
    },
    {
     "data": {
      "image/png": "[encoded data removed]",
      "text/plain": [
       "<Figure size 2000x500 with 2 Axes>"
      ]
     },
     "metadata": {},
     "output_type": "display_data"
    }
   ],
   "source": [
    "plt.figure(figsize=(20,5))\n",
    "feature_correlation = true_car_nissan_2.corr()\n",
    "sns.heatmap(feature_correlation,annot=True,vmin=-1,vmax=1,center=0)\n",
    "\n"
   ]
  },
  {
   "cell_type": "code",
   "execution_count": 40,
   "id": "053c66bb",
   "metadata": {},
   "outputs": [
    {
     "data": {
      "text/html": [
       "<div>\n",
       "<style scoped>\n",
       "    .dataframe tbody tr th:only-of-type {\n",
       "        vertical-align: middle;\n",
       "    }\n",
       "\n",
       "    .dataframe tbody tr th {\n",
       "        vertical-align: top;\n",
       "    }\n",
       "\n",
       "    .dataframe thead th {\n",
       "        text-align: right;\n",
       "    }\n",
       "</style>\n",
       "<table border=\"1\" class=\"dataframe\">\n",
       "  <thead>\n",
       "    <tr style=\"text-align: right;\">\n",
       "      <th></th>\n",
       "      <th>Price</th>\n",
       "      <th>Year</th>\n",
       "      <th>Mileage</th>\n",
       "      <th>City</th>\n",
       "      <th>State</th>\n",
       "      <th>Vin</th>\n",
       "      <th>Make</th>\n",
       "      <th>Model</th>\n",
       "      <th>NumOfYears</th>\n",
       "      <th>avgpermile</th>\n",
       "    </tr>\n",
       "  </thead>\n",
       "  <tbody>\n",
       "    <tr>\n",
       "      <th>1</th>\n",
       "      <td>9500</td>\n",
       "      <td>2009</td>\n",
       "      <td>18013</td>\n",
       "      <td>Long Island City</td>\n",
       "      <td>NY</td>\n",
       "      <td>1N4AA51E59C826885</td>\n",
       "      <td>Nissan</td>\n",
       "      <td>Maxima4dr</td>\n",
       "      <td>9</td>\n",
       "      <td>0.527397</td>\n",
       "    </tr>\n",
       "    <tr>\n",
       "      <th>2</th>\n",
       "      <td>5499</td>\n",
       "      <td>2009</td>\n",
       "      <td>68064</td>\n",
       "      <td>West Bridgewater</td>\n",
       "      <td>MA</td>\n",
       "      <td>1N4AA51E19C822901</td>\n",
       "      <td>Nissan</td>\n",
       "      <td>Maxima4dr</td>\n",
       "      <td>9</td>\n",
       "      <td>0.080792</td>\n",
       "    </tr>\n",
       "    <tr>\n",
       "      <th>3</th>\n",
       "      <td>3990</td>\n",
       "      <td>2009</td>\n",
       "      <td>77795</td>\n",
       "      <td>Homestead</td>\n",
       "      <td>FL</td>\n",
       "      <td>1N4AL21E89N400959</td>\n",
       "      <td>Nissan</td>\n",
       "      <td>Altima4dr</td>\n",
       "      <td>9</td>\n",
       "      <td>0.051289</td>\n",
       "    </tr>\n",
       "    <tr>\n",
       "      <th>4</th>\n",
       "      <td>4995</td>\n",
       "      <td>2009</td>\n",
       "      <td>70934</td>\n",
       "      <td>Bloomingdale</td>\n",
       "      <td>NJ</td>\n",
       "      <td>1N4CL21E99C163564</td>\n",
       "      <td>Nissan</td>\n",
       "      <td>Altima4dr</td>\n",
       "      <td>9</td>\n",
       "      <td>0.070418</td>\n",
       "    </tr>\n",
       "    <tr>\n",
       "      <th>5</th>\n",
       "      <td>5999</td>\n",
       "      <td>2009</td>\n",
       "      <td>60058</td>\n",
       "      <td>Woodside</td>\n",
       "      <td>NY</td>\n",
       "      <td>1N4AL24E69C145767</td>\n",
       "      <td>Nissan</td>\n",
       "      <td>Altima2dr</td>\n",
       "      <td>9</td>\n",
       "      <td>0.099887</td>\n",
       "    </tr>\n",
       "    <tr>\n",
       "      <th>...</th>\n",
       "      <td>...</td>\n",
       "      <td>...</td>\n",
       "      <td>...</td>\n",
       "      <td>...</td>\n",
       "      <td>...</td>\n",
       "      <td>...</td>\n",
       "      <td>...</td>\n",
       "      <td>...</td>\n",
       "      <td>...</td>\n",
       "      <td>...</td>\n",
       "    </tr>\n",
       "    <tr>\n",
       "      <th>66240</th>\n",
       "      <td>3500</td>\n",
       "      <td>1999</td>\n",
       "      <td>219335</td>\n",
       "      <td>Centennial</td>\n",
       "      <td>CO</td>\n",
       "      <td>JN8AR07Y7XW364689</td>\n",
       "      <td>Nissan</td>\n",
       "      <td>Pathfinder4dr</td>\n",
       "      <td>19</td>\n",
       "      <td>0.015957</td>\n",
       "    </tr>\n",
       "    <tr>\n",
       "      <th>66243</th>\n",
       "      <td>2895</td>\n",
       "      <td>1999</td>\n",
       "      <td>147815</td>\n",
       "      <td>Houston</td>\n",
       "      <td>TX</td>\n",
       "      <td>1N4AB41D4XC703123</td>\n",
       "      <td>Nissan</td>\n",
       "      <td>Sentra4dr</td>\n",
       "      <td>19</td>\n",
       "      <td>0.019585</td>\n",
       "    </tr>\n",
       "    <tr>\n",
       "      <th>66244</th>\n",
       "      <td>1991</td>\n",
       "      <td>1999</td>\n",
       "      <td>192971</td>\n",
       "      <td>BIXBY</td>\n",
       "      <td>OK</td>\n",
       "      <td>1N4DL01D4XC238006</td>\n",
       "      <td>Nissan</td>\n",
       "      <td>Altima4dr</td>\n",
       "      <td>19</td>\n",
       "      <td>0.010318</td>\n",
       "    </tr>\n",
       "    <tr>\n",
       "      <th>66246</th>\n",
       "      <td>1595</td>\n",
       "      <td>1999</td>\n",
       "      <td>220000</td>\n",
       "      <td>Gautier</td>\n",
       "      <td>MS</td>\n",
       "      <td>1N4DL01D7XC188640</td>\n",
       "      <td>Nissan</td>\n",
       "      <td>Altima4dr</td>\n",
       "      <td>19</td>\n",
       "      <td>0.007250</td>\n",
       "    </tr>\n",
       "    <tr>\n",
       "      <th>66248</th>\n",
       "      <td>1995</td>\n",
       "      <td>1999</td>\n",
       "      <td>198361</td>\n",
       "      <td>Plainville</td>\n",
       "      <td>CT</td>\n",
       "      <td>JN8AR05Y3XW319977</td>\n",
       "      <td>Nissan</td>\n",
       "      <td>Pathfinder4dr</td>\n",
       "      <td>19</td>\n",
       "      <td>0.010057</td>\n",
       "    </tr>\n",
       "  </tbody>\n",
       "</table>\n",
       "<p>60986 rows × 10 columns</p>\n",
       "</div>"
      ],
      "text/plain": [
       "       Price  Year  Mileage              City State                Vin  \\\n",
       "1       9500  2009    18013  Long Island City    NY  1N4AA51E59C826885   \n",
       "2       5499  2009    68064  West Bridgewater    MA  1N4AA51E19C822901   \n",
       "3       3990  2009    77795         Homestead    FL  1N4AL21E89N400959   \n",
       "4       4995  2009    70934      Bloomingdale    NJ  1N4CL21E99C163564   \n",
       "5       5999  2009    60058          Woodside    NY  1N4AL24E69C145767   \n",
       "...      ...   ...      ...               ...   ...                ...   \n",
       "66240   3500  1999   219335        Centennial    CO  JN8AR07Y7XW364689   \n",
       "66243   2895  1999   147815           Houston    TX  1N4AB41D4XC703123   \n",
       "66244   1991  1999   192971             BIXBY    OK  1N4DL01D4XC238006   \n",
       "66246   1595  1999   220000           Gautier    MS  1N4DL01D7XC188640   \n",
       "66248   1995  1999   198361        Plainville    CT  JN8AR05Y3XW319977   \n",
       "\n",
       "         Make          Model  NumOfYears  avgpermile  \n",
       "1      Nissan      Maxima4dr           9    0.527397  \n",
       "2      Nissan      Maxima4dr           9    0.080792  \n",
       "3      Nissan      Altima4dr           9    0.051289  \n",
       "4      Nissan      Altima4dr           9    0.070418  \n",
       "5      Nissan      Altima2dr           9    0.099887  \n",
       "...       ...            ...         ...         ...  \n",
       "66240  Nissan  Pathfinder4dr          19    0.015957  \n",
       "66243  Nissan      Sentra4dr          19    0.019585  \n",
       "66244  Nissan      Altima4dr          19    0.010318  \n",
       "66246  Nissan      Altima4dr          19    0.007250  \n",
       "66248  Nissan  Pathfinder4dr          19    0.010057  \n",
       "\n",
       "[60986 rows x 10 columns]"
      ]
     },
     "execution_count": 40,
     "metadata": {},
     "output_type": "execute_result"
    }
   ],
   "source": [
    "true_car_nissan_2"
   ]
  },
  {
   "cell_type": "code",
   "execution_count": 41,
   "id": "bca0ea90",
   "metadata": {},
   "outputs": [
    {
     "name": "stderr",
     "output_type": "stream",
     "text": [
      "C:\\Users\\DELL\\AppData\\Local\\Temp\\ipykernel_18332\\1300586795.py:1: SettingWithCopyWarning: \n",
      "A value is trying to be set on a copy of a slice from a DataFrame\n",
      "\n",
      "See the caveats in the documentation: https://pandas.pydata.org/pandas-docs/stable/user_guide/indexing.html#returning-a-view-versus-a-copy\n",
      "  true_car_nissan_2.drop(columns=[\"City\",\"State\",\"Vin\",\"Make\",\"Model\"],inplace=True)\n"
     ]
    }
   ],
   "source": [
    "true_car_nissan_2.drop(columns=[\"City\",\"State\",\"Vin\",\"Make\",\"Model\"],inplace=True)"
   ]
  },
  {
   "cell_type": "code",
   "execution_count": 42,
   "id": "9fe0ec6f",
   "metadata": {},
   "outputs": [
    {
     "data": {
      "text/html": [
       "<div>\n",
       "<style scoped>\n",
       "    .dataframe tbody tr th:only-of-type {\n",
       "        vertical-align: middle;\n",
       "    }\n",
       "\n",
       "    .dataframe tbody tr th {\n",
       "        vertical-align: top;\n",
       "    }\n",
       "\n",
       "    .dataframe thead th {\n",
       "        text-align: right;\n",
       "    }\n",
       "</style>\n",
       "<table border=\"1\" class=\"dataframe\">\n",
       "  <thead>\n",
       "    <tr style=\"text-align: right;\">\n",
       "      <th></th>\n",
       "      <th>Price</th>\n",
       "      <th>Year</th>\n",
       "      <th>Mileage</th>\n",
       "      <th>NumOfYears</th>\n",
       "      <th>avgpermile</th>\n",
       "    </tr>\n",
       "  </thead>\n",
       "  <tbody>\n",
       "    <tr>\n",
       "      <th>1</th>\n",
       "      <td>9500</td>\n",
       "      <td>2009</td>\n",
       "      <td>18013</td>\n",
       "      <td>9</td>\n",
       "      <td>0.527397</td>\n",
       "    </tr>\n",
       "    <tr>\n",
       "      <th>2</th>\n",
       "      <td>5499</td>\n",
       "      <td>2009</td>\n",
       "      <td>68064</td>\n",
       "      <td>9</td>\n",
       "      <td>0.080792</td>\n",
       "    </tr>\n",
       "    <tr>\n",
       "      <th>3</th>\n",
       "      <td>3990</td>\n",
       "      <td>2009</td>\n",
       "      <td>77795</td>\n",
       "      <td>9</td>\n",
       "      <td>0.051289</td>\n",
       "    </tr>\n",
       "    <tr>\n",
       "      <th>4</th>\n",
       "      <td>4995</td>\n",
       "      <td>2009</td>\n",
       "      <td>70934</td>\n",
       "      <td>9</td>\n",
       "      <td>0.070418</td>\n",
       "    </tr>\n",
       "    <tr>\n",
       "      <th>5</th>\n",
       "      <td>5999</td>\n",
       "      <td>2009</td>\n",
       "      <td>60058</td>\n",
       "      <td>9</td>\n",
       "      <td>0.099887</td>\n",
       "    </tr>\n",
       "    <tr>\n",
       "      <th>...</th>\n",
       "      <td>...</td>\n",
       "      <td>...</td>\n",
       "      <td>...</td>\n",
       "      <td>...</td>\n",
       "      <td>...</td>\n",
       "    </tr>\n",
       "    <tr>\n",
       "      <th>66240</th>\n",
       "      <td>3500</td>\n",
       "      <td>1999</td>\n",
       "      <td>219335</td>\n",
       "      <td>19</td>\n",
       "      <td>0.015957</td>\n",
       "    </tr>\n",
       "    <tr>\n",
       "      <th>66243</th>\n",
       "      <td>2895</td>\n",
       "      <td>1999</td>\n",
       "      <td>147815</td>\n",
       "      <td>19</td>\n",
       "      <td>0.019585</td>\n",
       "    </tr>\n",
       "    <tr>\n",
       "      <th>66244</th>\n",
       "      <td>1991</td>\n",
       "      <td>1999</td>\n",
       "      <td>192971</td>\n",
       "      <td>19</td>\n",
       "      <td>0.010318</td>\n",
       "    </tr>\n",
       "    <tr>\n",
       "      <th>66246</th>\n",
       "      <td>1595</td>\n",
       "      <td>1999</td>\n",
       "      <td>220000</td>\n",
       "      <td>19</td>\n",
       "      <td>0.007250</td>\n",
       "    </tr>\n",
       "    <tr>\n",
       "      <th>66248</th>\n",
       "      <td>1995</td>\n",
       "      <td>1999</td>\n",
       "      <td>198361</td>\n",
       "      <td>19</td>\n",
       "      <td>0.010057</td>\n",
       "    </tr>\n",
       "  </tbody>\n",
       "</table>\n",
       "<p>60986 rows × 5 columns</p>\n",
       "</div>"
      ],
      "text/plain": [
       "       Price  Year  Mileage  NumOfYears  avgpermile\n",
       "1       9500  2009    18013           9    0.527397\n",
       "2       5499  2009    68064           9    0.080792\n",
       "3       3990  2009    77795           9    0.051289\n",
       "4       4995  2009    70934           9    0.070418\n",
       "5       5999  2009    60058           9    0.099887\n",
       "...      ...   ...      ...         ...         ...\n",
       "66240   3500  1999   219335          19    0.015957\n",
       "66243   2895  1999   147815          19    0.019585\n",
       "66244   1991  1999   192971          19    0.010318\n",
       "66246   1595  1999   220000          19    0.007250\n",
       "66248   1995  1999   198361          19    0.010057\n",
       "\n",
       "[60986 rows x 5 columns]"
      ]
     },
     "execution_count": 42,
     "metadata": {},
     "output_type": "execute_result"
    }
   ],
   "source": [
    "true_car_nissan_2"
   ]
  },
  {
   "cell_type": "code",
   "execution_count": null,
   "id": "7b7590cf",
   "metadata": {},
   "outputs": [],
   "source": [
    "## applying Linear regression algorithm\n",
    "\n",
    "import matplotlib.pyplot as plt\n",
    "import numpy as np\n",
    "from sklearn import linear_model"
   ]
  },
  {
   "cell_type": "code",
   "execution_count": null,
   "id": "03145b95",
   "metadata": {},
   "outputs": [],
   "source": [
    "## pick up the price and year"
   ]
  },
  {
   "cell_type": "code",
   "execution_count": 45,
   "id": "7f1384f2",
   "metadata": {},
   "outputs": [
    {
     "name": "stdout",
     "output_type": "stream",
     "text": [
      "       Mileage  Price\n",
      "1        18013   9500\n",
      "2        68064   5499\n",
      "3        77795   3990\n",
      "4        70934   4995\n",
      "5        60058   5999\n",
      "...        ...    ...\n",
      "66240   219335   3500\n",
      "66243   147815   2895\n",
      "66244   192971   1991\n",
      "66246   220000   1595\n",
      "66248   198361   1995\n",
      "\n",
      "[60986 rows x 2 columns]\n"
     ]
    }
   ],
   "source": [
    "true_car_nissan_linear=true_car_nissan_2[[\"Mileage\",\"Price\"]]\n",
    "true_car_nissan_linear.sort_values(by=\"Mileage\",ascending=True)\n",
    "print(true_car_nissan_linear)"
   ]
  },
  {
   "cell_type": "code",
   "execution_count": 46,
   "id": "a4ecd978",
   "metadata": {},
   "outputs": [
    {
     "name": "stderr",
     "output_type": "stream",
     "text": [
      "C:\\ProgramData\\anaconda3\\Lib\\site-packages\\seaborn\\axisgrid.py:118: UserWarning: The figure layout has changed to tight\n",
      "  self._figure.tight_layout(*args, **kwargs)\n"
     ]
    },
    {
     "data": {
      "text/plain": [
       "<seaborn.axisgrid.PairGrid at 0x14b453874d0>"
      ]
     },
     "execution_count": 46,
     "metadata": {},
     "output_type": "execute_result"
    },
    {
     "data": {
      "image/png": "[encoded data removed]",
      "text/plain": [
       "<Figure size 500x500 with 6 Axes>"
      ]
     },
     "metadata": {},
     "output_type": "display_data"
    }
   ],
   "source": [
    "sns.pairplot(true_car_nissan_linear)"
   ]
  },
  {
   "cell_type": "code",
   "execution_count": 47,
   "id": "fba44016",
   "metadata": {},
   "outputs": [
    {
     "data": {
      "text/plain": [
       "<matplotlib.collections.PathCollection at 0x14b475506d0>"
      ]
     },
     "execution_count": 47,
     "metadata": {},
     "output_type": "execute_result"
    },
    {
     "data": {
      "image/png": "[encoded data removed]",
      "text/plain": [
       "<Figure size 640x480 with 1 Axes>"
      ]
     },
     "metadata": {},
     "output_type": "display_data"
    }
   ],
   "source": [
    "#not a good model to use, as the data itself is not linear in nature\n",
    "#how to reduce the outlier ? \n",
    "\n",
    "%matplotlib inline\n",
    "plt.scatter(true_car_nissan_2.NumOfYears,true_car_nissan_2.Price,color='red',marker='+')\n",
    "\n",
    "#plt.plot(true_car_nissan_2.Mileage, reg.predict(true_car_nissan_2[[\"Mileage\"]]) , color = \"Blue\")"
   ]
  },
  {
   "cell_type": "code",
   "execution_count": 48,
   "id": "4c1d68c4",
   "metadata": {},
   "outputs": [],
   "source": [
    "from sklearn.model_selection import train_test_split\n"
   ]
  },
  {
   "cell_type": "code",
   "execution_count": 49,
   "id": "7f5817f1",
   "metadata": {},
   "outputs": [],
   "source": [
    "#multi regression , creating the selection\n",
    "\n",
    "true_carMR=true_car_nissan_2[[\"Price\",\"NumOfYears\",\"Mileage\"]]"
   ]
  },
  {
   "cell_type": "code",
   "execution_count": 52,
   "id": "c0077e55",
   "metadata": {},
   "outputs": [],
   "source": [
    "x=pd.DataFrame(true_carMR[[\"Mileage\",\"NumOfYears\"]])\n",
    "y=pd.DataFrame(true_carMR[\"Price\"])"
   ]
  },
  {
   "cell_type": "code",
   "execution_count": 53,
   "id": "69c3bc18",
   "metadata": {},
   "outputs": [],
   "source": [
    "x_train,x_test,y_train,y_test=train_test_split(x,y,random_state=42,test_size=0.2)"
   ]
  },
  {
   "cell_type": "code",
   "execution_count": 55,
   "id": "dae3dfdf",
   "metadata": {},
   "outputs": [
    {
     "data": {
      "text/html": [
       "<style>#sk-container-id-1 {color: black;}#sk-container-id-1 pre{padding: 0;}#sk-container-id-1 div.sk-toggleable {background-color: white;}#sk-container-id-1 label.sk-toggleable__label {cursor: pointer;display: block;width: 100%;margin-bottom: 0;padding: 0.3em;box-sizing: border-box;text-align: center;}#sk-container-id-1 label.sk-toggleable__label-arrow:before {content: \"▸\";float: left;margin-right: 0.25em;color: #696969;}#sk-container-id-1 label.sk-toggleable__label-arrow:hover:before {color: black;}#sk-container-id-1 div.sk-estimator:hover label.sk-toggleable__label-arrow:before {color: black;}#sk-container-id-1 div.sk-toggleable__content {max-height: 0;max-width: 0;overflow: hidden;text-align: left;background-color: #f0f8ff;}#sk-container-id-1 div.sk-toggleable__content pre {margin: 0.2em;color: black;border-radius: 0.25em;background-color: #f0f8ff;}#sk-container-id-1 input.sk-toggleable__control:checked~div.sk-toggleable__content {max-height: 200px;max-width: 100%;overflow: auto;}#sk-container-id-1 input.sk-toggleable__control:checked~label.sk-toggleable__label-arrow:before {content: \"▾\";}#sk-container-id-1 div.sk-estimator input.sk-toggleable__control:checked~label.sk-toggleable__label {background-color: #d4ebff;}#sk-container-id-1 div.sk-label input.sk-toggleable__control:checked~label.sk-toggleable__label {background-color: #d4ebff;}#sk-container-id-1 input.sk-hidden--visually {border: 0;clip: rect(1px 1px 1px 1px);clip: rect(1px, 1px, 1px, 1px);height: 1px;margin: -1px;overflow: hidden;padding: 0;position: absolute;width: 1px;}#sk-container-id-1 div.sk-estimator {font-family: monospace;background-color: #f0f8ff;border: 1px dotted black;border-radius: 0.25em;box-sizing: border-box;margin-bottom: 0.5em;}#sk-container-id-1 div.sk-estimator:hover {background-color: #d4ebff;}#sk-container-id-1 div.sk-parallel-item::after {content: \"\";width: 100%;border-bottom: 1px solid gray;flex-grow: 1;}#sk-container-id-1 div.sk-label:hover label.sk-toggleable__label {background-color: #d4ebff;}#sk-container-id-1 div.sk-serial::before {content: \"\";position: absolute;border-left: 1px solid gray;box-sizing: border-box;top: 0;bottom: 0;left: 50%;z-index: 0;}#sk-container-id-1 div.sk-serial {display: flex;flex-direction: column;align-items: center;background-color: white;padding-right: 0.2em;padding-left: 0.2em;position: relative;}#sk-container-id-1 div.sk-item {position: relative;z-index: 1;}#sk-container-id-1 div.sk-parallel {display: flex;align-items: stretch;justify-content: center;background-color: white;position: relative;}#sk-container-id-1 div.sk-item::before, #sk-container-id-1 div.sk-parallel-item::before {content: \"\";position: absolute;border-left: 1px solid gray;box-sizing: border-box;top: 0;bottom: 0;left: 50%;z-index: -1;}#sk-container-id-1 div.sk-parallel-item {display: flex;flex-direction: column;z-index: 1;position: relative;background-color: white;}#sk-container-id-1 div.sk-parallel-item:first-child::after {align-self: flex-end;width: 50%;}#sk-container-id-1 div.sk-parallel-item:last-child::after {align-self: flex-start;width: 50%;}#sk-container-id-1 div.sk-parallel-item:only-child::after {width: 0;}#sk-container-id-1 div.sk-dashed-wrapped {border: 1px dashed gray;margin: 0 0.4em 0.5em 0.4em;box-sizing: border-box;padding-bottom: 0.4em;background-color: white;}#sk-container-id-1 div.sk-label label {font-family: monospace;font-weight: bold;display: inline-block;line-height: 1.2em;}#sk-container-id-1 div.sk-label-container {text-align: center;}#sk-container-id-1 div.sk-container {/* jupyter's `normalize.less` sets `[hidden] { display: none; }` but bootstrap.min.css set `[hidden] { display: none !important; }` so we also need the `!important` here to be able to override the default hidden behavior on the sphinx rendered scikit-learn.org. See: https://github.com/scikit-learn/scikit-learn/issues/21755 */display: inline-block !important;position: relative;}#sk-container-id-1 div.sk-text-repr-fallback {display: none;}</style><div id=\"sk-container-id-1\" class=\"sk-top-container\"><div class=\"sk-text-repr-fallback\"><pre>LinearRegression()</pre><b>In a Jupyter environment, please rerun this cell to show the HTML representation or trust the notebook. <br />On GitHub, the HTML representation is unable to render, please try loading this page with nbviewer.org.</b></div><div class=\"sk-container\" hidden><div class=\"sk-item\"><div class=\"sk-estimator sk-toggleable\"><input class=\"sk-toggleable__control sk-hidden--visually\" id=\"sk-estimator-id-1\" type=\"checkbox\" checked><label for=\"sk-estimator-id-1\" class=\"sk-toggleable__label sk-toggleable__label-arrow\">LinearRegression</label><div class=\"sk-toggleable__content\"><pre>LinearRegression()</pre></div></div></div></div></div>"
      ],
      "text/plain": [
       "LinearRegression()"
      ]
     },
     "execution_count": 55,
     "metadata": {},
     "output_type": "execute_result"
    }
   ],
   "source": [
    "LR=LinearRegression()\n",
    "LR.fit(x_train,y_train)"
   ]
  },
  {
   "cell_type": "code",
   "execution_count": 56,
   "id": "1cef42f5",
   "metadata": {},
   "outputs": [],
   "source": [
    "y_pred=LR.predict(x_test)"
   ]
  },
  {
   "cell_type": "code",
   "execution_count": 57,
   "id": "f159ba66",
   "metadata": {},
   "outputs": [],
   "source": [
    "from sklearn import metrics"
   ]
  },
  {
   "cell_type": "code",
   "execution_count": 61,
   "id": "1a03f89e",
   "metadata": {},
   "outputs": [
    {
     "data": {
      "text/plain": [
       "0.30530444922874755"
      ]
     },
     "execution_count": 61,
     "metadata": {},
     "output_type": "execute_result"
    }
   ],
   "source": [
    "metrics.r2_score(y_test,y_pred)\n"
   ]
  },
  {
   "cell_type": "code",
   "execution_count": 60,
   "id": "34ac7138",
   "metadata": {},
   "outputs": [
    {
     "data": {
      "text/plain": [
       "0.30530444922874755"
      ]
     },
     "execution_count": 60,
     "metadata": {},
     "output_type": "execute_result"
    }
   ],
   "source": [
    "LR.score(x_test,y_test)\n",
    "\n",
    "#here my score is low [30%] ,\n",
    "## im not too sure if there is something with the data set or i'm applyg the wrong methods"
   ]
  },
  {
   "cell_type": "code",
   "execution_count": 62,
   "id": "611b47f3",
   "metadata": {},
   "outputs": [
    {
     "data": {
      "text/plain": [
       "array([[-5.37439067e-02, -8.26083040e+02]])"
      ]
     },
     "execution_count": 62,
     "metadata": {},
     "output_type": "execute_result"
    }
   ],
   "source": [
    "LR.intercept_\n",
    "LR.coef_"
   ]
  },
  {
   "cell_type": "code",
   "execution_count": 63,
   "id": "fbb90876",
   "metadata": {},
   "outputs": [
    {
     "name": "stderr",
     "output_type": "stream",
     "text": [
      "C:\\ProgramData\\anaconda3\\Lib\\site-packages\\sklearn\\base.py:464: UserWarning: X does not have valid feature names, but LinearRegression was fitted with feature names\n",
      "  warnings.warn(\n"
     ]
    },
    {
     "data": {
      "text/plain": [
       "array([[-7412517.33528967]])"
      ]
     },
     "execution_count": 63,
     "metadata": {},
     "output_type": "execute_result"
    }
   ],
   "source": [
    "LR.predict([[4,9000]])"
   ]
  },
  {
   "cell_type": "code",
   "execution_count": 64,
   "id": "60333647",
   "metadata": {},
   "outputs": [
    {
     "data": {
      "text/plain": [
       "Price         14182.132353\n",
       "NumOfYears        4.000000\n",
       "Mileage        7651.250000\n",
       "dtype: float64"
      ]
     },
     "execution_count": 64,
     "metadata": {},
     "output_type": "execute_result"
    }
   ],
   "source": [
    "true_carMR[(true_carMR[\"NumOfYears\"]==4) & \n",
    "        (true_carMR[\"Mileage\"]<9000)].mean()\n",
    "\n"
   ]
  },
  {
   "cell_type": "code",
   "execution_count": 67,
   "id": "5ec11c5b",
   "metadata": {},
   "outputs": [],
   "source": [
    "from sklearn.metrics import mean_squared_error\n",
    "from math import sqrt"
   ]
  },
  {
   "cell_type": "code",
   "execution_count": 69,
   "id": "68233ada",
   "metadata": {},
   "outputs": [
    {
     "data": {
      "text/plain": [
       "7370087.9815969495"
      ]
     },
     "execution_count": 69,
     "metadata": {},
     "output_type": "execute_result"
    }
   ],
   "source": [
    "# calculate RMSE\n",
    "sqrt(mean_squared_error([[14182.132353]], [[7384270.11394995]])) \n",
    "\n",
    "#7370087.9815969495 .... :"
   ]
  },
  {
   "cell_type": "code",
   "execution_count": null,
   "id": "e8fa6d3a",
   "metadata": {},
   "outputs": [],
   "source": []
  },
  {
   "cell_type": "code",
   "execution_count": null,
   "id": "4f845453",
   "metadata": {},
   "outputs": [],
   "source": []
  },
  {
   "cell_type": "code",
   "execution_count": null,
   "id": "ae4a6bc0",
   "metadata": {},
   "outputs": [],
   "source": []
  },
  {
   "cell_type": "code",
   "execution_count": null,
   "id": "a6a7d096",
   "metadata": {},
   "outputs": [],
   "source": []
  }
 ],
 "metadata": {
  "kernelspec": {
   "display_name": "Python 3 (ipykernel)",
   "language": "python",
   "name": "python3"
  },
  "language_info": {
   "codemirror_mode": {
    "name": "ipython",
    "version": 3
   },
   "file_extension": ".py",
   "mimetype": "text/x-python",
   "name": "python",
   "nbconvert_exporter": "python",
   "pygments_lexer": "ipython3",
   "version": "3.11.5"
  }
 },
 "nbformat": 4,
 "nbformat_minor": 5
}
